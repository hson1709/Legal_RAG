{
  "cells": [
    {
      "cell_type": "code",
      "execution_count": null,
      "metadata": {
        "id": "gDvv3O5h8DGq"
      },
      "outputs": [],
      "source": [
        "# Metadata:\n",
        "metadata = {\n",
        "    \"law_name\": \"Bộ luật Lao động 2019\",\n",
        "    \"chapter\": \"Chương II. Hợp đồng lao động\",\n",
        "    \"article\": \"Điều 13. Hợp đồng lao động\",\n",
        "    \"clause\": \"Khoản 1\"\n",
        "}\n",
        "\n",
        "# Nội dung gốc:\n",
        "page_content = \"Hợp đồng lao động là sự thoả thuận giữa người lao động và người sử dụng lao động về...\"\n",
        "\n",
        "# Ghép lại trước khi đưa vào prompt:\n",
        "final_input = f\"\"\"{metadata['law_name']}\n",
        "{metadata['chapter']}\n",
        "{metadata['article']}\n",
        "{metadata['clause']}\n",
        "\n",
        "{page_content}\n",
        "\"\"\""
      ]
    },
    {
      "cell_type": "code",
      "execution_count": 32,
      "metadata": {
        "colab": {
          "base_uri": "https://localhost:8080/"
        },
        "id": "BDop5JmdO7bU",
        "outputId": "8b05929b-db1e-46ef-c860-2f1f09ab266c"
      },
      "outputs": [
        {
          "name": "stdout",
          "output_type": "stream",
          "text": [
            "Bộ luật Lao động 2019\n",
            "Chương II. Hợp đồng lao động\n",
            "Điều 13. Hợp đồng lao động\n",
            "Khoản 1\n",
            "\n",
            "Hợp đồng lao động là sự thoả thuận giữa người lao động và người sử dụng lao động về...\n",
            "\n"
          ]
        }
      ],
      "source": [
        "print(final_input)"
      ]
    },
    {
      "cell_type": "markdown",
      "metadata": {
        "id": "5wBy0R6eggFT"
      },
      "source": [
        "# Chunking với MarkdownHeaderTextSplitter"
      ]
    },
    {
      "cell_type": "code",
      "execution_count": 33,
      "metadata": {
        "id": "ak93AFXpPCQl"
      },
      "outputs": [],
      "source": [
        "from langchain.text_splitter import MarkdownHeaderTextSplitter, RecursiveCharacterTextSplitter"
      ]
    },
    {
      "cell_type": "code",
      "execution_count": 34,
      "metadata": {
        "id": "J-5hIoOSPf1Y"
      },
      "outputs": [],
      "source": [
        "markdown_path = \"/content/L_64_2025_QH15.txt\"\n",
        "\n",
        "with open(markdown_path, 'r', encoding='utf-8') as f:\n",
        "    markdown_text = f.read()"
      ]
    },
    {
      "cell_type": "code",
      "execution_count": 35,
      "metadata": {
        "id": "snSxTSNvRCAM"
      },
      "outputs": [],
      "source": [
        "headers_to_split_on = [\n",
        "    (\"#\", \"chu_de\"),\n",
        "    (\"##\", \"chuong\"),\n",
        "    (\"###\", \"dieu\"),\n",
        "]"
      ]
    },
    {
      "cell_type": "code",
      "execution_count": 36,
      "metadata": {
        "id": "em0MrxcHRZvd"
      },
      "outputs": [],
      "source": [
        "splitter = MarkdownHeaderTextSplitter(\n",
        "    headers_to_split_on=headers_to_split_on,\n",
        "    strip_headers=True\n",
        ")\n",
        "\n",
        "docs = splitter.split_text(markdown_text)"
      ]
    },
    {
      "cell_type": "code",
      "execution_count": 37,
      "metadata": {
        "colab": {
          "base_uri": "https://localhost:8080/"
        },
        "id": "fYf1M4niRdWd",
        "outputId": "a4535602-bb2e-47e7-ded9-bce02aae20fc"
      },
      "outputs": [
        {
          "name": "stdout",
          "output_type": "stream",
          "text": [
            "80\n"
          ]
        }
      ],
      "source": [
        "print(len(docs))"
      ]
    },
    {
      "cell_type": "code",
      "execution_count": 38,
      "metadata": {
        "colab": {
          "base_uri": "https://localhost:8080/"
        },
        "id": "JVdFuJKVRg2Q",
        "outputId": "1d180428-a4d2-47d2-b0d3-ad53d1411524"
      },
      "outputs": [
        {
          "name": "stdout",
          "output_type": "stream",
          "text": [
            "page_content='Trong Luật này, các từ ngữ dưới đây được hiểu như sau:\n",
            "1. Quy phạm pháp luật là quy tắc xử sự chung, có hiệu lực bắt buộc chung, được áp dụng đối với cơ quan,\n",
            "tổ chức, cá nhân, trong phạm vi cả nước hoặc trong đơn vị hành chính nhất định, do cơ quan nhà nước,\n",
            "người có thẩm quyền quy định tại Luật này ban hành và được Nhà nước bảo đảm thực hiện.\n",
            "2. Chính sách là tập hợp các giải pháp cụ thể của Nhà nước để giải quyết một hoặc một số vấn đề của thực\n",
            "tiễn nhằm đạt được mục tiêu nhất định, phù hợp với chủ trương, đường lối của Đảng.\n",
            "3. Tham vấn chính sách là việc trao đổi trực tiếp giữa cơ quan lập đề xuất chính sách với cơ quan, tổ chức,\n",
            "cá nhân được tham vấn theo quy định của Luật này nhằm lựa chọn giải pháp, hoàn thiện chính sách của dự\n",
            "án luật, nghị quyết của Quốc hội, pháp lệnh của Ủy ban Thường vụ Quốc hội.\n",
            "4. Đánh giá tác động của chính sách là việc phân tích, dự báo khả năng ảnh hưởng của từng giải pháp nhằm\n",
            "lựa chọn phương án tối ưu, phù hợp với mục tiêu của chính sách.\n",
            "5. Rà soát văn bản quy phạm pháp luật là việc xem xét, đối chiếu, đánh giá các quy định của văn bản được\n",
            "rà soát nhằm phát hiện, xử lý hoặc kiến nghị xử lý các quy định mâu thuẫn, chồng chéo, hết hiệu lực hoặc\n",
            "không còn phù hợp.\n",
            "6. Kiểm tra văn bản quy phạm pháp luật là việc xem xét, đánh giá, kết luận về tính hợp hiến, tính hợp pháp,\n",
            "tính thống nhất với hệ thống pháp luật của văn bản được kiểm tra.' metadata={'chu_de': 'LUẬT: BAN HÀNH VĂN BẢN QUY PHẠM PHÁP LUẬT', 'chuong': 'Chương I - NHỮNG QUY ĐỊNH CHUNG', 'dieu': 'Điều 3. Giải thích từ ngữ'}\n"
          ]
        }
      ],
      "source": [
        "print(docs[4])"
      ]
    },
    {
      "cell_type": "code",
      "execution_count": 39,
      "metadata": {
        "colab": {
          "base_uri": "https://localhost:8080/"
        },
        "id": "lMorQ6pGSCiN",
        "outputId": "7b2cffac-d8f9-4fc8-bb87-0f934f776fa9"
      },
      "outputs": [
        {
          "name": "stdout",
          "output_type": "stream",
          "text": [
            "{'chu_de': 'LUẬT: BAN HÀNH VĂN BẢN QUY PHẠM PHÁP LUẬT', 'chuong': 'Chương I - NHỮNG QUY ĐỊNH CHUNG', 'dieu': 'Điều 3. Giải thích từ ngữ'}\n"
          ]
        }
      ],
      "source": [
        "print(docs[4].metadata)"
      ]
    },
    {
      "cell_type": "code",
      "execution_count": 40,
      "metadata": {
        "colab": {
          "base_uri": "https://localhost:8080/"
        },
        "id": "wEWbCJqGXm-0",
        "outputId": "474e315b-7ba0-4987-de60-839ef3870ed5"
      },
      "outputs": [
        {
          "name": "stdout",
          "output_type": "stream",
          "text": [
            "117\n"
          ]
        }
      ],
      "source": [
        "print(len(docs[1].page_content))"
      ]
    },
    {
      "cell_type": "code",
      "execution_count": 41,
      "metadata": {
        "id": "vwJUxv1MUGaP"
      },
      "outputs": [],
      "source": [
        "from statistics import mean, median\n",
        "\n",
        "def analyze_doc_lengths(docs):\n",
        "    lengths = [len(doc.page_content) for doc in docs]\n",
        "\n",
        "    print(f\" Tổng số chunk: {len(lengths)}\")\n",
        "    print(f\" Độ dài nhỏ nhất: {min(lengths)} ký tự\")\n",
        "    print(f\" Độ dài lớn nhất: {max(lengths)} ký tự\")\n",
        "    print(f\" Độ dài trung bình: {mean(lengths):.2f} ký tự\")\n",
        "    print(f\" Độ dài trung vị  : {median(lengths)} ký tự\")\n",
        "\n",
        "    import matplotlib.pyplot as plt\n",
        "    import numpy as np\n",
        "\n",
        "    plt.hist(lengths, bins=np.arange(0, max(lengths) + 200, 200), edgecolor='black')\n",
        "    plt.title(\"Phân bố độ dài các chunk\")\n",
        "    plt.xlabel(\"Độ dài (số ký tự)\")\n",
        "    plt.ylabel(\"Số chunk\")\n",
        "    plt.grid(True)\n",
        "    plt.show()"
      ]
    },
    {
      "cell_type": "code",
      "execution_count": 42,
      "metadata": {
        "colab": {
          "base_uri": "https://localhost:8080/",
          "height": 561
        },
        "id": "kZ8MwfpyYUv1",
        "outputId": "23a28e37-3323-4610-ff28-1ef613ff52cb"
      },
      "outputs": [
        {
          "name": "stdout",
          "output_type": "stream",
          "text": [
            " Tổng số chunk: 80\n",
            " Độ dài nhỏ nhất: 26 ký tự\n",
            " Độ dài lớn nhất: 4907 ký tự\n",
            " Độ dài trung bình: 1227.91 ký tự\n",
            " Độ dài trung vị  : 923.5 ký tự\n"
          ]
        },
        {
          "data": {
            "image/png": "[encoded data removed]",
            "text/plain": [
              "<Figure size 640x480 with 1 Axes>"
            ]
          },
          "metadata": {},
          "output_type": "display_data"
        }
      ],
      "source": [
        "analyze_doc_lengths(docs)"
      ]
    },
    {
      "cell_type": "markdown",
      "metadata": {
        "id": "J0S5OXTXgm7y"
      },
      "source": [
        "# Metadata enrichment"
      ]
    },
    {
      "cell_type": "code",
      "execution_count": 43,
      "metadata": {
        "id": "foBJmMcPa6kw"
      },
      "outputs": [],
      "source": [
        "import re\n",
        "from datetime import datetime\n",
        "\n",
        "def extract_legal_metadata(markdown_text):\n",
        "    lines = markdown_text.strip().splitlines()\n",
        "    lines = [line.strip() for line in lines if line.strip() != \"\"]\n",
        "\n",
        "    metadata = {}\n",
        "\n",
        "    # 1.Lấy cơ quan ban hành\n",
        "    part1, part2 = \"\", \"\"\n",
        "\n",
        "    # Lấy phần trước \"CỘNG HÒA XÃ HỘI CHỦ NGHĨA VIỆT NAM\" ở dòng 1\n",
        "    if len(lines) >= 1 and \"CỘNG HÒA XÃ HỘI CHỦ NGHĨA VIỆT NAM\" in lines[0].upper():\n",
        "        part1 = lines[0].split(\"CỘNG HÒA XÃ HỘI CHỦ NGHĨA VIỆT NAM\")[0].strip().lower()\n",
        "\n",
        "    # Lấy phần trước \"Độc lập - Tự do - Hạnh phúc\" ở dòng 2\n",
        "    if len(lines) >= 2 and \"Độc lập - Tự do - Hạnh phúc\" in lines[1]:\n",
        "        part2 = lines[1].split(\"Độc lập - Tự do - Hạnh phúc\")[0].strip().lower()\n",
        "\n",
        "    # Kết hợp\n",
        "    if part1 and part2:\n",
        "        metadata[\"co_quan_ban_hanh\"] = f\"{part1} {part2}\"\n",
        "    else:\n",
        "        metadata[\"co_quan_ban_hanh\"] = part1 or part2\n",
        "\n",
        "    # 2. Lấy loại văn bản và chủ đề (dòng bắt đầu bằng \"# LOẠI: TÊN\")\n",
        "    for line in lines:\n",
        "        if line.startswith(\"# \"):\n",
        "            match = re.match(r\"#\\s*(\\w+):\\s*(.+)\", line)\n",
        "            if match:\n",
        "                metadata[\"loai_van_ban\"] = match.group(1).lower()\n",
        "                metadata[\"chu_de\"] = match.group(2).lower()\n",
        "            break\n",
        "\n",
        "    # 3. Lấy mã số, ngày ban hành và nơi ban hành\n",
        "    metadata[\"ma_so\"] = \"\"\n",
        "    metadata[\"ngay_ban_hanh\"] = \"\"\n",
        "    metadata[\"noi_ban_hanh\"] = \"\"\n",
        "\n",
        "    for line in lines:\n",
        "        line_cleaned = line\n",
        "\n",
        "        # 3.1 Tìm mã số văn bản\n",
        "        ma_so_match = re.search(r\"(?:Luật|Nghị quyết|Thông tư|Quyết định)?\\s*Số\\s*:\\s*([\\w\\/\\-]+)\", line, re.IGNORECASE)\n",
        "        if ma_so_match:\n",
        "            metadata[\"ma_so\"] = ma_so_match.group(1).strip()\n",
        "            line_cleaned = re.sub(r\"(?:Luật|Nghị quyết|Thông tư|Quyết định)?\\s*Số\\s*:\\s*[\\w\\/\\-]+\", \"\", line, flags=re.IGNORECASE)\n",
        "\n",
        "        # 3.2 Tìm ngày ban hành và nơi ban hành\n",
        "        date_match = re.search(\n",
        "            r\"(.*?),?\\s*ngày\\s+(\\d{1,2})\\s+tháng\\s+(\\d{1,2})\\s+năm\\s+(\\d{4})\",\n",
        "            line_cleaned,\n",
        "            re.IGNORECASE\n",
        "        )\n",
        "        if date_match:\n",
        "            place = date_match.group(1).strip().lower()\n",
        "            if place:\n",
        "                metadata[\"noi_ban_hanh\"] = place\n",
        "\n",
        "            day = int(date_match.group(2))\n",
        "            month = int(date_match.group(3))\n",
        "            year = int(date_match.group(4))\n",
        "            metadata[\"ngay_ban_hanh\"] = f\"{day:02d}/{month:02d}/{year}\"\n",
        "\n",
        "        if metadata[\"ma_so\"]:\n",
        "            break\n",
        "\n",
        "    return metadata"
      ]
    },
    {
      "cell_type": "code",
      "execution_count": 44,
      "metadata": {
        "id": "ftTIJh4yEiit"
      },
      "outputs": [],
      "source": [
        "import os\n",
        "\n",
        "def parse_filename_metadata(file, metadata):\n",
        "    filename = os.path.basename(file)\n",
        "    filename_no_ext = os.path.splitext(filename)[0]\n",
        "    metadata['source'] = f\"{filename_no_ext}.pdf\""
      ]
    },
    {
      "cell_type": "code",
      "execution_count": 45,
      "metadata": {
        "id": "Uisd75mIdSDL"
      },
      "outputs": [],
      "source": [
        "lagal_metadata = extract_legal_metadata(markdown_text)"
      ]
    },
    {
      "cell_type": "code",
      "execution_count": 46,
      "metadata": {
        "id": "2tJ6ErU3FYQd"
      },
      "outputs": [],
      "source": [
        "parse_filename_metadata(markdown_path, lagal_metadata)"
      ]
    },
    {
      "cell_type": "code",
      "execution_count": 47,
      "metadata": {
        "colab": {
          "base_uri": "https://localhost:8080/"
        },
        "id": "Y1pn2VAlDjkr",
        "outputId": "bcc11bff-aa8a-442e-d088-88740e9dc52f"
      },
      "outputs": [
        {
          "name": "stdout",
          "output_type": "stream",
          "text": [
            "{'co_quan_ban_hanh': 'quốc hội', 'loai_van_ban': 'luật', 'chu_de': 'ban hành văn bản quy phạm pháp luật', 'ma_so': '64/2025/QH15', 'ngay_ban_hanh': '19/02/2025', 'noi_ban_hanh': 'hà nội', 'source': 'L_64_2025_QH15.pdf'}\n"
          ]
        }
      ],
      "source": [
        "print(lagal_metadata)"
      ]
    },
    {
      "cell_type": "code",
      "execution_count": 48,
      "metadata": {
        "id": "1TIx_DtXDltJ"
      },
      "outputs": [],
      "source": [
        "for doc in docs:\n",
        "    doc.metadata.update(lagal_metadata)"
      ]
    },
    {
      "cell_type": "code",
      "execution_count": 49,
      "metadata": {
        "colab": {
          "base_uri": "https://localhost:8080/"
        },
        "id": "Rfx3lyaVbC8c",
        "outputId": "6a176255-3a75-43c1-a4d8-8ef9f3565cbd"
      },
      "outputs": [
        {
          "name": "stdout",
          "output_type": "stream",
          "text": [
            "page_content='Văn bản quy phạm pháp luật là văn bản có chứa quy phạm pháp luật, được ban hành đúng thẩm quyền, hình\n",
            "thức, trình tự, thủ tục theo quy định của Luật này.' metadata={'chu_de': 'ban hành văn bản quy phạm pháp luật', 'chuong': 'Chương I - NHỮNG QUY ĐỊNH CHUNG', 'dieu': 'Điều 2. Văn bản quy phạm pháp luật', 'co_quan_ban_hanh': 'quốc hội', 'loai_van_ban': 'luật', 'ma_so': '64/2025/QH15', 'ngay_ban_hanh': '19/02/2025', 'noi_ban_hanh': 'hà nội', 'source': 'L_64_2025_QH15.pdf'}\n"
          ]
        }
      ],
      "source": [
        "print(docs[3])"
      ]
    },
    {
      "cell_type": "code",
      "execution_count": 50,
      "metadata": {
        "id": "I02dKbnUbFRk"
      },
      "outputs": [],
      "source": [
        "def clean_text(text):\n",
        "    text = text.lower()\n",
        "    text = re.sub(r'[^\\w\\s]', '', text)\n",
        "    text = re.sub(r'\\s+', ' ', text).strip()\n",
        "    return text"
      ]
    },
    {
      "cell_type": "code",
      "execution_count": 51,
      "metadata": {
        "id": "DFtBaWlDcdti"
      },
      "outputs": [],
      "source": [
        "for doc in docs:\n",
        "  doc.metadata[\"chuong\"] = clean_text(doc.metadata.get(\"chuong\", \"\"))\n",
        "  doc.metadata[\"dieu\"] = clean_text(doc.metadata.get(\"dieu\", \"\"))"
      ]
    },
    {
      "cell_type": "code",
      "execution_count": 52,
      "metadata": {
        "colab": {
          "base_uri": "https://localhost:8080/"
        },
        "id": "kTeeVxMNcgoi",
        "outputId": "a48a6fc6-d8f6-4072-e426-eb060c04a9d6"
      },
      "outputs": [
        {
          "name": "stdout",
          "output_type": "stream",
          "text": [
            "page_content='Văn bản quy phạm pháp luật là văn bản có chứa quy phạm pháp luật, được ban hành đúng thẩm quyền, hình\n",
            "thức, trình tự, thủ tục theo quy định của Luật này.' metadata={'chu_de': 'ban hành văn bản quy phạm pháp luật', 'chuong': 'chương i những quy định chung', 'dieu': 'điều 2 văn bản quy phạm pháp luật', 'co_quan_ban_hanh': 'quốc hội', 'loai_van_ban': 'luật', 'ma_so': '64/2025/QH15', 'ngay_ban_hanh': '19/02/2025', 'noi_ban_hanh': 'hà nội', 'source': 'L_64_2025_QH15.pdf'}\n"
          ]
        }
      ],
      "source": [
        "print(docs[3])"
      ]
    },
    {
      "cell_type": "code",
      "execution_count": 53,
      "metadata": {
        "id": "fv8h-5dYciSt"
      },
      "outputs": [],
      "source": [
        "def split_chuong(metadata):\n",
        "    chuong_text = metadata.get(\"chuong\", \"\")\n",
        "    match = re.match(r\"chương\\s+([ivxlcdm]+)\\s+(.*)\", chuong_text, re.IGNORECASE)\n",
        "    if match:\n",
        "        metadata[\"chuong\"] = match.group(1).upper()\n",
        "        metadata[\"ten_chuong\"] = match.group(2).strip()\n",
        "    else:\n",
        "        metadata[\"chuong\"] = \"\"\n",
        "        metadata[\"ten_chuong\"] = chuong_text.strip()\n",
        "\n",
        "def split_dieu(metadata):\n",
        "    dieu_text = metadata.get(\"dieu\", \"\")\n",
        "    match = re.match(r\"điều\\s+(\\d+)\\s+(.*)\", dieu_text, re.IGNORECASE)\n",
        "    if match:\n",
        "        metadata[\"dieu\"] = match.group(1)\n",
        "        metadata[\"ten_dieu\"] = match.group(2).strip()\n",
        "    else:\n",
        "        metadata[\"dieu\"] = \"\"\n",
        "        metadata[\"ten_dieu\"] = dieu_text.strip()\n"
      ]
    },
    {
      "cell_type": "code",
      "execution_count": 54,
      "metadata": {
        "id": "9VQVuPcneZt8"
      },
      "outputs": [],
      "source": [
        "for doc in docs:\n",
        "  split_chuong(doc.metadata)\n",
        "  split_dieu(doc.metadata)"
      ]
    },
    {
      "cell_type": "code",
      "execution_count": 55,
      "metadata": {
        "colab": {
          "base_uri": "https://localhost:8080/"
        },
        "id": "el4k5nWXegBo",
        "outputId": "dcdba68a-0361-40ec-cc98-c43486c96182"
      },
      "outputs": [
        {
          "name": "stdout",
          "output_type": "stream",
          "text": [
            "page_content='1. Quốc hội ban hành luật để quy định:\n",
            "a) Tổ chức và hoạt động của Quốc hội, Chủ tịch nước, Chính phủ, Tòa án nhân dân, Viện kiểm sát nhân dân,\n",
            "Hội đồng bầu cử quốc gia, Kiểm toán nhà nước, chính quyền địa phương, đơn vị hành chính - kinh tế đặc\n",
            "biệt và cơ quan khác do Quốc hội thành lập;\n",
            "b) Quyền con người, quyền và nghĩa vụ cơ bản của công dân mà theo Hiến pháp phải do luật định; việc hạn\n",
            "chế quyền con người, quyền công dân; tội phạm và hình phạt; tố tụng tư pháp;\n",
            "c) Chính sách cơ bản về kinh tế, xã hội, văn hóa, giáo dục, khoa học, công nghệ, môi trường, tài chính, tiền\n",
            "tệ quốc gia, ngân sách nhà nước; quy định các thứ thuế, về huân chương, huy chương và danh hiệu vinh dự\n",
            "nhà nước;\n",
            "d) Chính sách cơ bản về quốc phòng, an ninh quốc gia; hàm, cấp trong lực lượng vũ trang nhân dân; quy\n",
            "định về tình trạng khẩn cấp, các biện pháp đặc biệt khác bảo đảm quốc phòng và an ninh quốc gia;\n",
            "đ) Chính sách cơ bản về đối ngoại; hàm, cấp ngoại giao; hàm, cấp nhà nước khác;\n",
            "e) Chính sách dân tộc, chính sách tôn giáo của Nhà nước;\n",
            "g) Trưng cầu ý dân;\n",
            "h) Cơ chế bảo vệ Hiến pháp;\n",
            "i) Vấn đề khác thuộc thẩm quyền của Quốc hội theo quy định của Hiến pháp và luật.\n",
            "2. Quốc hội ban hành nghị quyết để quy định:\n",
            "a) Thực hiện thí điểm một số chính sách mới thuộc thẩm quyền quyết định của Quốc hội khác với quy định\n",
            "của luật hiện hành;\n",
            "b) Tạm ngưng, điều chỉnh hiệu lực hoặc kéo dài thời hạn áp dụng toàn bộ hoặc một phần luật, nghị quyết\n",
            "của Quốc hội đáp ứng yêu cầu cấp bách về phát triển kinh tế - xã hội, bảo đảm quyền con người, quyền\n",
            "công dân;\n",
            "c) Vấn đề khác do Quốc hội quyết định.' metadata={'chu_de': 'ban hành văn bản quy phạm pháp luật', 'chuong': 'II', 'dieu': '10', 'co_quan_ban_hanh': 'quốc hội', 'loai_van_ban': 'luật', 'ma_so': '64/2025/QH15', 'ngay_ban_hanh': '19/02/2025', 'noi_ban_hanh': 'hà nội', 'source': 'L_64_2025_QH15.pdf', 'ten_chuong': 'thẩm quyền ban hành nội dung văn bản quy phạm pháp luật', 'ten_dieu': 'luật nghị quyết của quốc hội'}\n"
          ]
        }
      ],
      "source": [
        "print(docs[11])"
      ]
    },
    {
      "cell_type": "code",
      "execution_count": 56,
      "metadata": {
        "colab": {
          "base_uri": "https://localhost:8080/"
        },
        "id": "dWkeMDt7nQUS",
        "outputId": "1055be68-c559-4f9c-e46b-ce7f3b979c31"
      },
      "outputs": [
        {
          "name": "stdout",
          "output_type": "stream",
          "text": [
            "<class 'langchain_core.documents.base.Document'>\n"
          ]
        }
      ],
      "source": [
        "print(type(docs[0]))"
      ]
    },
    {
      "cell_type": "markdown",
      "metadata": {
        "id": "oQb5TyquguU4"
      },
      "source": [
        "# Embeding và Indexing vào Vector Store"
      ]
    },
    {
      "cell_type": "code",
      "execution_count": 27,
      "metadata": {
        "colab": {
          "base_uri": "https://localhost:8080/"
        },
        "id": "XUBJWzRakN_g",
        "outputId": "63fb2be3-d284-4690-a908-d49f3c276c7f"
      },
      "outputs": [
        {
          "name": "stdout",
          "output_type": "stream",
          "text": [
            "\u001b[?25l     \u001b[90m━━━━━━━━━━━━━━━━━━━━━━━━━━━━━━━━━━━━━━━━\u001b[0m \u001b[32m0.0/67.3 kB\u001b[0m \u001b[31m?\u001b[0m eta \u001b[36m-:--:--\u001b[0m\r\u001b[2K     \u001b[90m━━━━━━━━━━━━━━━━━━━━━━━━━━━━━━━━━━━━━━━━\u001b[0m \u001b[32m67.3/67.3 kB\u001b[0m \u001b[31m2.1 MB/s\u001b[0m eta \u001b[36m0:00:00\u001b[0m\n",
            "\u001b[?25h  Installing build dependencies ... \u001b[?25l\u001b[?25hdone\n",
            "  Getting requirements to build wheel ... \u001b[?25l\u001b[?25hdone\n",
            "  Preparing metadata (pyproject.toml) ... \u001b[?25l\u001b[?25hdone\n",
            "\u001b[2K   \u001b[90m━━━━━━━━━━━━━━━━━━━━━━━━━━━━━━━━━━━━━━━━\u001b[0m \u001b[32m19.5/19.5 MB\u001b[0m \u001b[31m60.0 MB/s\u001b[0m eta \u001b[36m0:00:00\u001b[0m\n",
            "\u001b[2K   \u001b[90m━━━━━━━━━━━━━━━━━━━━━━━━━━━━━━━━━━━━━━━━\u001b[0m \u001b[32m2.5/2.5 MB\u001b[0m \u001b[31m56.7 MB/s\u001b[0m eta \u001b[36m0:00:00\u001b[0m\n",
            "\u001b[2K   \u001b[90m━━━━━━━━━━━━━━━━━━━━━━━━━━━━━━━━━━━━━━━━\u001b[0m \u001b[32m284.2/284.2 kB\u001b[0m \u001b[31m19.2 MB/s\u001b[0m eta \u001b[36m0:00:00\u001b[0m\n",
            "\u001b[2K   \u001b[90m━━━━━━━━━━━━━━━━━━━━━━━━━━━━━━━━━━━━━━━━\u001b[0m \u001b[32m1.9/1.9 MB\u001b[0m \u001b[31m59.2 MB/s\u001b[0m eta \u001b[36m0:00:00\u001b[0m\n",
            "\u001b[2K   \u001b[90m━━━━━━━━━━━━━━━━━━━━━━━━━━━━━━━━━━━━━━━━\u001b[0m \u001b[32m101.6/101.6 kB\u001b[0m \u001b[31m7.8 MB/s\u001b[0m eta \u001b[36m0:00:00\u001b[0m\n",
            "\u001b[2K   \u001b[90m━━━━━━━━━━━━━━━━━━━━━━━━━━━━━━━━━━━━━━━━\u001b[0m \u001b[32m16.4/16.4 MB\u001b[0m \u001b[31m52.1 MB/s\u001b[0m eta \u001b[36m0:00:00\u001b[0m\n",
            "\u001b[2K   \u001b[90m━━━━━━━━━━━━━━━━━━━━━━━━━━━━━━━━━━━━━━━━\u001b[0m \u001b[32m65.8/65.8 kB\u001b[0m \u001b[31m3.1 MB/s\u001b[0m eta \u001b[36m0:00:00\u001b[0m\n",
            "\u001b[2K   \u001b[90m━━━━━━━━━━━━━━━━━━━━━━━━━━━━━━━━━━━━━━━━\u001b[0m \u001b[32m55.7/55.7 kB\u001b[0m \u001b[31m4.1 MB/s\u001b[0m eta \u001b[36m0:00:00\u001b[0m\n",
            "\u001b[2K   \u001b[90m━━━━━━━━━━━━━━━━━━━━━━━━━━━━━━━━━━━━━━━━\u001b[0m \u001b[32m118.5/118.5 kB\u001b[0m \u001b[31m7.4 MB/s\u001b[0m eta \u001b[36m0:00:00\u001b[0m\n",
            "\u001b[2K   \u001b[90m━━━━━━━━━━━━━━━━━━━━━━━━━━━━━━━━━━━━━━━━\u001b[0m \u001b[32m196.2/196.2 kB\u001b[0m \u001b[31m15.2 MB/s\u001b[0m eta \u001b[36m0:00:00\u001b[0m\n",
            "\u001b[2K   \u001b[90m━━━━━━━━━━━━━━━━━━━━━━━━━━━━━━━━━━━━━━━━\u001b[0m \u001b[32m105.4/105.4 kB\u001b[0m \u001b[31m5.5 MB/s\u001b[0m eta \u001b[36m0:00:00\u001b[0m\n",
            "\u001b[2K   \u001b[90m━━━━━━━━━━━━━━━━━━━━━━━━━━━━━━━━━━━━━━━━\u001b[0m \u001b[32m71.2/71.2 kB\u001b[0m \u001b[31m4.2 MB/s\u001b[0m eta \u001b[36m0:00:00\u001b[0m\n",
            "\u001b[2K   \u001b[90m━━━━━━━━━━━━━━━━━━━━━━━━━━━━━━━━━━━━━━━━\u001b[0m \u001b[32m45.2/45.2 kB\u001b[0m \u001b[31m2.9 MB/s\u001b[0m eta \u001b[36m0:00:00\u001b[0m\n",
            "\u001b[2K   \u001b[90m━━━━━━━━━━━━━━━━━━━━━━━━━━━━━━━━━━━━━━━━\u001b[0m \u001b[32m363.4/363.4 MB\u001b[0m \u001b[31m2.9 MB/s\u001b[0m eta \u001b[36m0:00:00\u001b[0m\n",
            "\u001b[2K   \u001b[90m━━━━━━━━━━━━━━━━━━━━━━━━━━━━━━━━━━━━━━━━\u001b[0m \u001b[32m13.8/13.8 MB\u001b[0m \u001b[31m76.1 MB/s\u001b[0m eta \u001b[36m0:00:00\u001b[0m\n",
            "\u001b[2K   \u001b[90m━━━━━━━━━━━━━━━━━━━━━━━━━━━━━━━━━━━━━━━━\u001b[0m \u001b[32m24.6/24.6 MB\u001b[0m \u001b[31m54.3 MB/s\u001b[0m eta \u001b[36m0:00:00\u001b[0m\n",
            "\u001b[2K   \u001b[90m━━━━━━━━━━━━━━━━━━━━━━━━━━━━━━━━━━━━━━━━\u001b[0m \u001b[32m883.7/883.7 kB\u001b[0m \u001b[31m44.9 MB/s\u001b[0m eta \u001b[36m0:00:00\u001b[0m\n",
            "\u001b[2K   \u001b[90m━━━━━━━━━━━━━━━━━━━━━━━━━━━━━━━━━━━━━━━━\u001b[0m \u001b[32m664.8/664.8 MB\u001b[0m \u001b[31m3.3 MB/s\u001b[0m eta \u001b[36m0:00:00\u001b[0m\n",
            "\u001b[2K   \u001b[90m━━━━━━━━━━━━━━━━━━━━━━━━━━━━━━━━━━━━━━━━\u001b[0m \u001b[32m211.5/211.5 MB\u001b[0m \u001b[31m6.0 MB/s\u001b[0m eta \u001b[36m0:00:00\u001b[0m\n",
            "\u001b[2K   \u001b[90m━━━━━━━━━━━━━━━━━━━━━━━━━━━━━━━━━━━━━━━━\u001b[0m \u001b[32m56.3/56.3 MB\u001b[0m \u001b[31m14.1 MB/s\u001b[0m eta \u001b[36m0:00:00\u001b[0m\n",
            "\u001b[2K   \u001b[90m━━━━━━━━━━━━━━━━━━━━━━━━━━━━━━━━━━━━━━━━\u001b[0m \u001b[32m127.9/127.9 MB\u001b[0m \u001b[31m9.0 MB/s\u001b[0m eta \u001b[36m0:00:00\u001b[0m\n",
            "\u001b[2K   \u001b[90m━━━━━━━━━━━━━━━━━━━━━━━━━━━━━━━━━━━━━━━━\u001b[0m \u001b[32m207.5/207.5 MB\u001b[0m \u001b[31m6.1 MB/s\u001b[0m eta \u001b[36m0:00:00\u001b[0m\n",
            "\u001b[2K   \u001b[90m━━━━━━━━━━━━━━━━━━━━━━━━━━━━━━━━━━━━━━━━\u001b[0m \u001b[32m21.1/21.1 MB\u001b[0m \u001b[31m42.2 MB/s\u001b[0m eta \u001b[36m0:00:00\u001b[0m\n",
            "\u001b[2K   \u001b[90m━━━━━━━━━━━━━━━━━━━━━━━━━━━━━━━━━━━━━━━━\u001b[0m \u001b[32m459.8/459.8 kB\u001b[0m \u001b[31m31.5 MB/s\u001b[0m eta \u001b[36m0:00:00\u001b[0m\n",
            "\u001b[2K   \u001b[90m━━━━━━━━━━━━━━━━━━━━━━━━━━━━━━━━━━━━━━━━\u001b[0m \u001b[32m50.9/50.9 kB\u001b[0m \u001b[31m4.1 MB/s\u001b[0m eta \u001b[36m0:00:00\u001b[0m\n",
            "\u001b[2K   \u001b[90m━━━━━━━━━━━━━━━━━━━━━━━━━━━━━━━━━━━━━━━━\u001b[0m \u001b[32m4.0/4.0 MB\u001b[0m \u001b[31m81.3 MB/s\u001b[0m eta \u001b[36m0:00:00\u001b[0m\n",
            "\u001b[2K   \u001b[90m━━━━━━━━━━━━━━━━━━━━━━━━━━━━━━━━━━━━━━━━\u001b[0m \u001b[32m453.1/453.1 kB\u001b[0m \u001b[31m28.4 MB/s\u001b[0m eta \u001b[36m0:00:00\u001b[0m\n",
            "\u001b[2K   \u001b[90m━━━━━━━━━━━━━━━━━━━━━━━━━━━━━━━━━━━━━━━━\u001b[0m \u001b[32m46.0/46.0 kB\u001b[0m \u001b[31m4.0 MB/s\u001b[0m eta \u001b[36m0:00:00\u001b[0m\n",
            "\u001b[2K   \u001b[90m━━━━━━━━━━━━━━━━━━━━━━━━━━━━━━━━━━━━━━━━\u001b[0m \u001b[32m86.8/86.8 kB\u001b[0m \u001b[31m8.2 MB/s\u001b[0m eta \u001b[36m0:00:00\u001b[0m\n",
            "\u001b[?25h  Building wheel for pypika (pyproject.toml) ... \u001b[?25l\u001b[?25hdone\n"
          ]
        }
      ],
      "source": [
        "!pip install chromadb langchain sentence-transformers transformers langchain-community --quiet"
      ]
    },
    {
      "cell_type": "code",
      "execution_count": 57,
      "metadata": {
        "id": "dbGuLeyXehl3"
      },
      "outputs": [],
      "source": [
        "from langchain.vectorstores import Chroma\n",
        "from langchain.embeddings import HuggingFaceEmbeddings\n",
        "from langchain.docstore.document import Document\n",
        "from transformers import AutoTokenizer"
      ]
    },
    {
      "cell_type": "code",
      "execution_count": 58,
      "metadata": {
        "colab": {
          "base_uri": "https://localhost:8080/"
        },
        "id": "yu03oMg9lfNq",
        "outputId": "7164807a-8cda-4340-ba17-58ccb412c514"
      },
      "outputs": [
        {
          "name": "stderr",
          "output_type": "stream",
          "text": [
            "WARNING:sentence_transformers.SentenceTransformer:No sentence-transformers model found with name vinai/phobert-base-v2. Creating a new one with mean pooling.\n",
            "Some weights of RobertaModel were not initialized from the model checkpoint at vinai/phobert-base-v2 and are newly initialized: ['pooler.dense.bias', 'pooler.dense.weight']\n",
            "You should probably TRAIN this model on a down-stream task to be able to use it for predictions and inference.\n"
          ]
        }
      ],
      "source": [
        "embedding_model = HuggingFaceEmbeddings(\n",
        "    model_name=\"vinai/phobert-base-v2\",\n",
        "    model_kwargs={\"device\": \"cuda\"},\n",
        "    encode_kwargs={\"normalize_embeddings\": True}\n",
        ")"
      ]
    },
    {
      "cell_type": "code",
      "execution_count": 59,
      "metadata": {
        "id": "vBwRa9Kxw3QD"
      },
      "outputs": [],
      "source": [
        "tokenizer = AutoTokenizer.from_pretrained(\"vinai/phobert-base-v2\")"
      ]
    },
    {
      "cell_type": "code",
      "execution_count": 60,
      "metadata": {
        "id": "QZY7C3eVwjb6"
      },
      "outputs": [],
      "source": [
        "final_docs = []\n",
        "for doc in docs:\n",
        "    text = doc.page_content\n",
        "    tokens = tokenizer.encode(text, add_special_tokens=False)\n",
        "\n",
        "    if len(tokens) <= 256:\n",
        "        final_docs.append(doc)\n",
        "    else:\n",
        "        chunk_splitter = RecursiveCharacterTextSplitter(\n",
        "            chunk_size=512,\n",
        "            chunk_overlap=0\n",
        "        )\n",
        "        chunks = chunk_splitter.split_text(text)\n",
        "\n",
        "        for chunk in chunks:\n",
        "            chunk_tokens = tokenizer.encode(chunk, add_special_tokens=False)\n",
        "            if len(chunk_tokens) <= 256:\n",
        "                final_docs.append(Document(page_content=chunk, metadata=doc.metadata))"
      ]
    },
    {
      "cell_type": "code",
      "execution_count": 75,
      "metadata": {
        "colab": {
          "base_uri": "https://localhost:8080/"
        },
        "id": "05MTvQH9y8we",
        "outputId": "bb647225-3e0d-47df-b66c-31c5223bce88"
      },
      "outputs": [
        {
          "name": "stdout",
          "output_type": "stream",
          "text": [
            "1. Cơ quan trình trình bày tờ trình.\n",
            "2. Cơ quan chủ trì thẩm tra trình bày báo cáo thẩm tra.\n",
            "3. Quốc hội thảo luận tại phiên họp toàn thể. Trước khi thảo luận tại phiên họp toàn thể, dự án có thể được\n",
            "thảo luận ở Tổ đại biểu Quốc hội.\n",
            "4. Trong quá trình thảo luận, cơ quan trình giải trình những vấn đề liên quan đến dự án mà đại biểu Quốc\n",
            "hội nêu.\n",
            "5. Đối với những vấn đề quan trọng, vấn đề lớn của dự án còn có ý kiến khác nhau thì Quốc hội tiến hành\n"
          ]
        }
      ],
      "source": [
        "print(final_docs[110].page_content)"
      ]
    },
    {
      "cell_type": "code",
      "execution_count": 66,
      "metadata": {
        "colab": {
          "base_uri": "https://localhost:8080/",
          "height": 561
        },
        "id": "HiA_iXJpzOzO",
        "outputId": "8fafebee-2c0c-4d35-cca4-ab3676b40f56"
      },
      "outputs": [
        {
          "name": "stdout",
          "output_type": "stream",
          "text": [
            " Tổng số chunk: 225\n",
            " Độ dài nhỏ nhất: 26 ký tự\n",
            " Độ dài lớn nhất: 925 ký tự\n",
            " Độ dài trung bình: 435.95 ký tự\n",
            " Độ dài trung vị  : 453 ký tự\n"
          ]
        },
        {
          "data": {
            "image/png": "[encoded data removed]",
            "text/plain": [
              "<Figure size 640x480 with 1 Axes>"
            ]
          },
          "metadata": {},
          "output_type": "display_data"
        }
      ],
      "source": [
        "analyze_doc_lengths(final_docs)"
      ]
    },
    {
      "cell_type": "code",
      "execution_count": 76,
      "metadata": {
        "colab": {
          "base_uri": "https://localhost:8080/"
        },
        "id": "x3f7oU9OotWC",
        "outputId": "a55db5bc-e6b0-429d-d251-271c52bb4a20"
      },
      "outputs": [
        {
          "name": "stderr",
          "output_type": "stream",
          "text": [
            "WARNING:sentence_transformers.SentenceTransformer:No sentence-transformers model found with name vinai/phobert-base-v2. Creating a new one with mean pooling.\n",
            "Some weights of RobertaModel were not initialized from the model checkpoint at vinai/phobert-base-v2 and are newly initialized: ['pooler.dense.bias', 'pooler.dense.weight']\n",
            "You should probably TRAIN this model on a down-stream task to be able to use it for predictions and inference.\n"
          ]
        }
      ],
      "source": [
        "embedding_model = HuggingFaceEmbeddings(\n",
        "    model_name=\"vinai/phobert-base-v2\",\n",
        "    model_kwargs={\"device\": \"cuda\"},\n",
        "    encode_kwargs={\"normalize_embeddings\": True}\n",
        ")"
      ]
    },
    {
      "cell_type": "code",
      "execution_count": 77,
      "metadata": {
        "colab": {
          "base_uri": "https://localhost:8080/"
        },
        "id": "gKTH_YLzpjWN",
        "outputId": "9fcacf09-b10c-429b-862e-2b0eaf9f11e0"
      },
      "outputs": [
        {
          "name": "stderr",
          "output_type": "stream",
          "text": [
            "/tmp/ipython-input-77-781482455.py:13: LangChainDeprecationWarning: Since Chroma 0.4.x the manual persistence method is no longer supported as docs are automatically persisted.\n",
            "  vectorstore.persist()\n"
          ]
        }
      ],
      "source": [
        "texts = [doc.page_content for doc in final_docs]\n",
        "metadatas = [doc.metadata for doc in final_docs]\n",
        "\n",
        "persist_dir = \"./bm_db_legal\"\n",
        "\n",
        "vectorstore = Chroma.from_texts(\n",
        "    texts=texts,\n",
        "    embedding=embedding_model,\n",
        "    metadatas=metadatas,\n",
        "    collection_name=\"law_docs\",\n",
        "    persist_directory=persist_dir\n",
        ")\n",
        "vectorstore.persist()"
      ]
    },
    {
      "cell_type": "code",
      "execution_count": 80,
      "metadata": {
        "id": "3z_mcKRE0ajz"
      },
      "outputs": [],
      "source": [
        "law_db = Chroma(\n",
        "    collection_name=\"law_docs\",\n",
        "    embedding_function=embedding_model,\n",
        "    persist_directory=persist_dir\n",
        ")"
      ]
    },
    {
      "cell_type": "code",
      "execution_count": 84,
      "metadata": {
        "colab": {
          "base_uri": "https://localhost:8080/"
        },
        "id": "IVXv3Gi20tEF",
        "outputId": "b041a2d7-4aef-4a27-9072-c59985166692"
      },
      "outputs": [
        {
          "name": "stdout",
          "output_type": "stream",
          "text": [
            "\n",
            "--- Kết quả ---\n",
            "Nội dung: Văn bản quy phạm pháp luật là văn bản có chứa quy phạm pháp luật, được ban hành đúng thẩm quyền, hình\n",
            "thức, trình tự, thủ tục theo quy định của Luật này.\n",
            "Metadata: {'chuong': 'I', 'ten_dieu': 'văn bản quy phạm pháp luật', 'co_quan_ban_hanh': 'quốc hội', 'loai_van_ban': 'luật', 'noi_ban_hanh': 'hà nội', 'dieu': '2', 'ngay_ban_hanh': '19/02/2025', 'ten_chuong': 'những quy định chung', 'chu_de': 'ban hành văn bản quy phạm pháp luật', 'ma_so': '64/2025/QH15', 'source': 'L_64_2025_QH15.pdf'}\n",
            "\n",
            "--- Kết quả ---\n",
            "Nội dung: Luật này quy định về xây dựng, ban hành văn bản quy phạm pháp luật; nội dung cơ bản về tổ chức thi hành\n",
            "văn bản quy phạm pháp luật.\n",
            "Luật này không quy định về làm Hiến pháp, sửa đổi Hiến pháp.\n",
            "Metadata: {'ten_dieu': 'phạm vi điều chỉnh', 'ten_chuong': 'những quy định chung', 'dieu': '1', 'source': 'L_64_2025_QH15.pdf', 'ma_so': '64/2025/QH15', 'noi_ban_hanh': 'hà nội', 'co_quan_ban_hanh': 'quốc hội', 'ngay_ban_hanh': '19/02/2025', 'chuong': 'I', 'loai_van_ban': 'luật', 'chu_de': 'ban hành văn bản quy phạm pháp luật'}\n",
            "\n",
            "--- Kết quả ---\n",
            "Nội dung: 1. Văn bản quy phạm pháp luật sửa đổi, bổ sung phải được hợp nhất với văn bản quy phạm pháp luật được\n",
            "sửa đổi, bổ sung.\n",
            "2. Cơ quan nhà nước pháp điển hệ thống quy phạm pháp luật trong các văn bản quy phạm pháp luật đang\n",
            "còn hiệu lực, trừ Hiến pháp, để xây dựng Bộ pháp điển.\n",
            "3. Việc hợp nhất văn bản quy phạm pháp luật, pháp điển hệ thống quy phạm pháp luật thực hiện theo quy\n",
            "định tại pháp lệnh của Ủy ban Thường vụ Quốc hội.\n",
            "Metadata: {'chuong': 'VII', 'ten_dieu': 'hợp nhất văn bản quy phạm pháp luật pháp điển hệ thống quy phạm pháp luật', 'dieu': '65', 'chu_de': 'ban hành văn bản quy phạm pháp luật', 'loai_van_ban': 'luật', 'ma_so': '64/2025/QH15', 'ten_chuong': 'tổ chức thi hành văn bản quy phạm pháp luật', 'noi_ban_hanh': 'hà nội', 'ngay_ban_hanh': '19/02/2025', 'source': 'L_64_2025_QH15.pdf', 'co_quan_ban_hanh': 'quốc hội'}\n",
            "\n",
            "--- Kết quả ---\n",
            "Nội dung: Thường vụ Quốc hội\n",
            "1. Việc giải thích Hiến pháp, luật, pháp lệnh, nghị quyết không được làm thay đổi nội dung quy định được\n",
            "giải thích và được thực hiện trong các trường hợp sau đây:\n",
            "a) Có cách hiểu khác nhau về quy định của văn bản;\n",
            "b) Chưa thống nhất việc áp dụng các văn bản.\n",
            "2. Việc giải thích Hiến pháp, luật, pháp lệnh, nghị quyết phải bảo đảm thực hiện theo thứ tự các nguyên tắc,\n",
            "tiêu chí sau đây:\n",
            "a) Phù hợp với nghĩa phổ thông của từ ngữ sử dụng trong văn bản quy phạm pháp luật đó;\n",
            "Metadata: {'chu_de': 'ban hành văn bản quy phạm pháp luật', 'ten_dieu': 'giải thích hiến pháp luật nghị quyết của quốc hội pháp lệnh nghị quyết của ủy ban', 'loai_van_ban': 'luật', 'chuong': 'VII', 'dieu': '60', 'co_quan_ban_hanh': 'quốc hội', 'noi_ban_hanh': 'hà nội', 'ngay_ban_hanh': '19/02/2025', 'source': 'L_64_2025_QH15.pdf', 'ma_so': '64/2025/QH15', 'ten_chuong': 'tổ chức thi hành văn bản quy phạm pháp luật'}\n",
            "\n",
            "--- Kết quả ---\n",
            "Nội dung: Văn bản bãi bỏ hoặc đình chỉ việc thi hành văn bản quy phạm pháp luật quy định tại khoản 1 và khoản 2\n",
            "Điều này phải được đăng tải trên công báo điện tử, cơ sở dữ liệu quốc gia về pháp luật.\n",
            "4. Ban hành văn bản quy phạm pháp luật thay thế văn bản quy phạm pháp luật hiện hành thuộc một trong\n",
            "các trường hợp sau đây:\n",
            "a) Thay đổi cơ bản chính sách, phạm vi điều chỉnh, đối tượng áp dụng;\n",
            "b) Sửa đổi, bổ sung về nội dung quá một phần hai tổng số điều.\n",
            "Metadata: {'dieu': '8', 'ngay_ban_hanh': '19/02/2025', 'ten_chuong': 'những quy định chung', 'chuong': 'I', 'noi_ban_hanh': 'hà nội', 'source': 'L_64_2025_QH15.pdf', 'ma_so': '64/2025/QH15', 'chu_de': 'ban hành văn bản quy phạm pháp luật', 'co_quan_ban_hanh': 'quốc hội', 'ten_dieu': 'sửa đổi bổ sung thay thế bãi bỏ hoặc đình chỉ việc thi hành văn bản quy phạm pháp luật', 'loai_van_ban': 'luật'}\n",
            "\n",
            "--- Kết quả ---\n",
            "Nội dung: Việc giám sát văn bản quy phạm pháp luật thực hiện theo quy định của pháp luật về hoạt động giám sát của\n",
            "Quốc hội và Hội đồng nhân dân, các luật khác có liên quan.\n",
            "Metadata: {'ten_chuong': 'tổ chức thi hành văn bản quy phạm pháp luật', 'chu_de': 'ban hành văn bản quy phạm pháp luật', 'co_quan_ban_hanh': 'quốc hội', 'chuong': 'VII', 'ma_so': '64/2025/QH15', 'dieu': '62', 'ten_dieu': 'giám sát văn bản quy phạm pháp luật', 'source': 'L_64_2025_QH15.pdf', 'ngay_ban_hanh': '19/02/2025', 'noi_ban_hanh': 'hà nội', 'loai_van_ban': 'luật'}\n",
            "\n",
            "--- Kết quả ---\n",
            "Nội dung: 4. Cơ quan, người có thẩm quyền thực hiện kiểm tra văn bản có chứa quy phạm pháp luật nhưng không\n",
            "được ban hành đúng thẩm quyền, hình thức, trình tự, thủ tục theo quy định của Luật này, văn bản hướng dẫn\n",
            "áp dụng văn bản quy phạm pháp luật khi có căn cứ quy định tại điểm b và điểm c khoản 3 Điều này.\n",
            "5. Việc xử lý văn bản trái pháp luật qua kiểm tra được thực hiện theo quy định của pháp luật.\n",
            "Metadata: {'ma_so': '64/2025/QH15', 'ten_chuong': 'tổ chức thi hành văn bản quy phạm pháp luật', 'ngay_ban_hanh': '19/02/2025', 'noi_ban_hanh': 'hà nội', 'co_quan_ban_hanh': 'quốc hội', 'loai_van_ban': 'luật', 'chuong': 'VII', 'chu_de': 'ban hành văn bản quy phạm pháp luật', 'ten_dieu': 'kiểm tra xử lý văn bản quy phạm pháp luật', 'dieu': '63', 'source': 'L_64_2025_QH15.pdf'}\n",
            "\n",
            "--- Kết quả ---\n",
            "Nội dung: lực, thúc đẩy phát triển kinh tế - xã hội.\n",
            "6. Văn bản quy phạm pháp luật quy định thực hiện thí điểm phải xác định thời gian thực hiện thí điểm và\n",
            "phải được sơ kết, tổng kết để xem xét, quyết định việc tiếp tục áp dụng hoặc ban hành văn bản quy phạm\n",
            "pháp luật để áp dụng chính thức.\n",
            "7. Bảo đảm thực hiện quy định của pháp luật về bảo vệ bí mật nhà nước đối với nội dung văn bản quy phạm\n",
            "pháp luật thuộc phạm vi bí mật nhà nước.\n",
            "Metadata: {'ma_so': '64/2025/QH15', 'noi_ban_hanh': 'hà nội', 'ten_chuong': 'những quy định chung', 'chu_de': 'ban hành văn bản quy phạm pháp luật', 'ten_dieu': 'nguyên tắc xây dựng ban hành văn bản quy phạm pháp luật', 'loai_van_ban': 'luật', 'ngay_ban_hanh': '19/02/2025', 'source': 'L_64_2025_QH15.pdf', 'chuong': 'I', 'dieu': '5', 'co_quan_ban_hanh': 'quốc hội'}\n",
            "\n",
            "--- Kết quả ---\n",
            "Nội dung: 1. Cơ quan trình có trách nhiệm tổ chức thực hiện quy trình xây dựng chính sách trước khi soạn thảo trong\n",
            "các trường hợp xây dựng văn bản quy phạm pháp luật sau đây:\n",
            "a) Luật, pháp lệnh mới; luật, pháp lệnh thay thế các luật, pháp lệnh hiện hành;\n",
            "b) Luật sửa đổi, bổ sung một số điều của luật có nội dung hạn chế quyền con người, quyền công dân theo\n",
            "quy định của Hiến pháp;\n",
            "c) Nghị quyết thí điểm của Quốc hội.\n",
            "2. Đối với dự án luật, nghị quyết của Quốc hội, pháp lệnh của Ủy ban Thường vụ Quốc hội không thuộc\n",
            "trường hợp quy định tại khoản 1 Điều này thì cơ quan trình không phải thực hiện quy trình xây dựng chính\n",
            "sách nhưng phải nêu rõ tác động của chính sách trong bản thuyết minh quy phạm hóa chính sách.\n",
            "3. Cơ quan trình tự mình lập đề xuất chính sách hoặc phân công cơ quan thực hiện lập đề xuất chính sách.\n",
            "Metadata: {'ma_so': '64/2025/QH15', 'chu_de': 'ban hành văn bản quy phạm pháp luật', 'ngay_ban_hanh': '19/02/2025', 'chuong': 'III', 'loai_van_ban': 'luật', 'ten_dieu': 'các trường hợp thực hiện quy trình xây dựng chính sách', 'co_quan_ban_hanh': 'quốc hội', 'dieu': '27', 'source': 'L_64_2025_QH15.pdf', 'noi_ban_hanh': 'hà nội', 'ten_chuong': 'xây dựng ban hành văn bản quy phạm pháp luật của quốc hội ủy ban'}\n",
            "\n",
            "--- Kết quả ---\n",
            "Nội dung: 1. Nội dung tổ chức thi hành văn bản quy phạm pháp luật:\n",
            "a) Ban hành văn bản quy định chi tiết, hướng dẫn thi hành và biện pháp cụ thể để tổ chức thi hành văn bản\n",
            "quy phạm pháp luật;\n",
            "b) Giải thích Hiến pháp, luật, nghị quyết của Quốc hội, pháp lệnh, nghị quyết của Ủy ban Thường vụ Quốc\n",
            "hội;\n",
            "c) Phổ biến, giáo dục văn bản quy phạm pháp luật;\n",
            "d) Hướng dẫn áp dụng văn bản quy phạm pháp luật; tiếp nhận và xử lý đề nghị, kiến nghị về văn bản quy\n",
            "Metadata: {'dieu': '59', 'ma_so': '64/2025/QH15', 'co_quan_ban_hanh': 'quốc hội', 'source': 'L_64_2025_QH15.pdf', 'ngay_ban_hanh': '19/02/2025', 'ten_dieu': 'nội dung và trách nhiệm tổ chức thi hành văn bản quy phạm pháp luật', 'chuong': 'VII', 'loai_van_ban': 'luật', 'ten_chuong': 'tổ chức thi hành văn bản quy phạm pháp luật', 'chu_de': 'ban hành văn bản quy phạm pháp luật', 'noi_ban_hanh': 'hà nội'}\n"
          ]
        }
      ],
      "source": [
        "retriever = law_db.as_retriever(search_kwargs={\"k\": 10})\n",
        "query = \"Quy phạm pháp luật là gì?\"\n",
        "\n",
        "results = retriever.invoke(query)\n",
        "\n",
        "for r in results:\n",
        "    print(\"\\n--- Kết quả ---\")\n",
        "    print(\"Nội dung:\", r.page_content)\n",
        "    print(\"Metadata:\", r.metadata)"
      ]
    },
    {
      "cell_type": "code",
      "execution_count": 85,
      "metadata": {
        "colab": {
          "base_uri": "https://localhost:8080/"
        },
        "id": "_I3IwVaF2N7o",
        "outputId": "a5d13fb6-fbd5-46ab-b9b9-67203e574e14"
      },
      "outputs": [
        {
          "name": "stdout",
          "output_type": "stream",
          "text": [
            "  adding: bm_db_legal/ (stored 0%)\n",
            "  adding: bm_db_legal/chroma.sqlite3 (deflated 52%)\n",
            "  adding: bm_db_legal/bc13b764-fb81-4b4f-800e-ddedb706370b/ (stored 0%)\n",
            "  adding: bm_db_legal/bc13b764-fb81-4b4f-800e-ddedb706370b/length.bin (deflated 100%)\n",
            "  adding: bm_db_legal/bc13b764-fb81-4b4f-800e-ddedb706370b/link_lists.bin (stored 0%)\n",
            "  adding: bm_db_legal/bc13b764-fb81-4b4f-800e-ddedb706370b/header.bin (deflated 61%)\n",
            "  adding: bm_db_legal/bc13b764-fb81-4b4f-800e-ddedb706370b/data_level0.bin (deflated 100%)\n"
          ]
        }
      ],
      "source": [
        "!zip -r bm_db_legal.zip bm_db_legal"
      ]
    },
    {
      "cell_type": "code",
      "execution_count": null,
      "metadata": {
        "id": "wPsdPXZ11xOe"
      },
      "outputs": [],
      "source": []
    }
  ],
  "metadata": {
    "accelerator": "GPU",
    "colab": {
      "collapsed_sections": [
        "J0S5OXTXgm7y"
      ],
      "gpuType": "T4",
      "provenance": []
    },
    "kernelspec": {
      "display_name": "Python 3",
      "name": "python3"
    },
    "language_info": {
      "name": "python"
    }
  },
  "nbformat": 4,
  "nbformat_minor": 0
}
