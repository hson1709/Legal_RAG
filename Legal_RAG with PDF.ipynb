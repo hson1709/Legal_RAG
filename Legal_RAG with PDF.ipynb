{
  "nbformat": 4,
  "nbformat_minor": 0,
  "metadata": {
    "colab": {
      "provenance": []
    },
    "kernelspec": {
      "name": "python3",
      "display_name": "Python 3"
    },
    "language_info": {
      "name": "python"
    }
  },
  "cells": [
    {
      "cell_type": "code",
      "execution_count": 1,
      "metadata": {
        "colab": {
          "base_uri": "https://localhost:8080/"
        },
        "id": "-j-1kmnN6gMu",
        "outputId": "55927fc1-fe98-4f59-cecb-daac7ac606d3"
      },
      "outputs": [
        {
          "output_type": "stream",
          "name": "stdout",
          "text": [
            "Collecting pypdf\n",
            "  Downloading pypdf-5.7.0-py3-none-any.whl.metadata (7.2 kB)\n",
            "Collecting pytesseract\n",
            "  Downloading pytesseract-0.3.13-py3-none-any.whl.metadata (11 kB)\n",
            "Collecting pdf2image\n",
            "  Downloading pdf2image-1.17.0-py3-none-any.whl.metadata (6.2 kB)\n",
            "Requirement already satisfied: packaging>=21.3 in /usr/local/lib/python3.11/dist-packages (from pytesseract) (24.2)\n",
            "Requirement already satisfied: Pillow>=8.0.0 in /usr/local/lib/python3.11/dist-packages (from pytesseract) (11.2.1)\n",
            "Downloading pypdf-5.7.0-py3-none-any.whl (305 kB)\n",
            "\u001b[2K   \u001b[90m━━━━━━━━━━━━━━━━━━━━━━━━━━━━━━━━━━━━━━━━\u001b[0m \u001b[32m305.5/305.5 kB\u001b[0m \u001b[31m5.2 MB/s\u001b[0m eta \u001b[36m0:00:00\u001b[0m\n",
            "\u001b[?25hDownloading pytesseract-0.3.13-py3-none-any.whl (14 kB)\n",
            "Downloading pdf2image-1.17.0-py3-none-any.whl (11 kB)\n",
            "Installing collected packages: pytesseract, pypdf, pdf2image\n",
            "Successfully installed pdf2image-1.17.0 pypdf-5.7.0 pytesseract-0.3.13\n"
          ]
        }
      ],
      "source": [
        "!pip install pypdf pytesseract pdf2image"
      ]
    },
    {
      "cell_type": "code",
      "source": [
        "!apt-get install poppler-utils"
      ],
      "metadata": {
        "colab": {
          "base_uri": "https://localhost:8080/"
        },
        "id": "nJ3M4R40CpOD",
        "outputId": "a962197f-ba59-4892-ddef-38ca70da9ce0"
      },
      "execution_count": 2,
      "outputs": [
        {
          "output_type": "stream",
          "name": "stdout",
          "text": [
            "Reading package lists... Done\n",
            "Building dependency tree... Done\n",
            "Reading state information... Done\n",
            "The following NEW packages will be installed:\n",
            "  poppler-utils\n",
            "0 upgraded, 1 newly installed, 0 to remove and 35 not upgraded.\n",
            "Need to get 186 kB of archives.\n",
            "After this operation, 697 kB of additional disk space will be used.\n",
            "Get:1 http://archive.ubuntu.com/ubuntu jammy-updates/main amd64 poppler-utils amd64 22.02.0-2ubuntu0.8 [186 kB]\n",
            "Fetched 186 kB in 1s (314 kB/s)\n",
            "Selecting previously unselected package poppler-utils.\n",
            "(Reading database ... 126281 files and directories currently installed.)\n",
            "Preparing to unpack .../poppler-utils_22.02.0-2ubuntu0.8_amd64.deb ...\n",
            "Unpacking poppler-utils (22.02.0-2ubuntu0.8) ...\n",
            "Setting up poppler-utils (22.02.0-2ubuntu0.8) ...\n",
            "Processing triggers for man-db (2.10.2-1) ...\n"
          ]
        }
      ]
    },
    {
      "cell_type": "code",
      "source": [
        "!which tesseract"
      ],
      "metadata": {
        "colab": {
          "base_uri": "https://localhost:8080/"
        },
        "id": "FC7Q40NeE5R3",
        "outputId": "d97bae81-487b-41ea-8210-05585e1c37a2"
      },
      "execution_count": 3,
      "outputs": [
        {
          "output_type": "stream",
          "name": "stdout",
          "text": [
            "/usr/bin/tesseract\n"
          ]
        }
      ]
    },
    {
      "cell_type": "code",
      "source": [
        "from pypdf import PdfReader\n",
        "from pdf2image import convert_from_path\n",
        "import pytesseract"
      ],
      "metadata": {
        "id": "TlOKdTjg6udV"
      },
      "execution_count": 4,
      "outputs": []
    },
    {
      "cell_type": "code",
      "source": [
        "file_path = \"/content/nq_193_2025_QH15.pdf\""
      ],
      "metadata": {
        "id": "bJj0Nbh560Qd"
      },
      "execution_count": 7,
      "outputs": []
    },
    {
      "cell_type": "code",
      "source": [
        "images = convert_from_path(file_path, dpi=300)"
      ],
      "metadata": {
        "id": "ai2yLPa56_Vs"
      },
      "execution_count": 17,
      "outputs": []
    },
    {
      "cell_type": "code",
      "source": [
        "pages = []\n",
        "for img in images:\n",
        "  text = pytesseract.image_to_string(img, lang=\"vie\")\n",
        "  pages.append(text)"
      ],
      "metadata": {
        "id": "xVbDYUspDPxc"
      },
      "execution_count": 18,
      "outputs": []
    },
    {
      "cell_type": "code",
      "source": [
        "print(type(pages[2]))"
      ],
      "metadata": {
        "colab": {
          "base_uri": "https://localhost:8080/"
        },
        "id": "oZrKc-7KmKtE",
        "outputId": "a0ffe6dc-b20d-497c-bf05-421804b857a4"
      },
      "execution_count": 104,
      "outputs": [
        {
          "output_type": "stream",
          "name": "stdout",
          "text": [
            "<class 'str'>\n"
          ]
        }
      ]
    },
    {
      "cell_type": "code",
      "source": [
        "print(pages[2].strip().splitlines()[2:-2])"
      ],
      "metadata": {
        "colab": {
          "base_uri": "https://localhost:8080/"
        },
        "id": "Pvo7X2qhG5cP",
        "outputId": "a5420fc1-bc59-474e-8c93-57b80a787bfe"
      },
      "execution_count": 98,
      "outputs": [
        {
          "output_type": "stream",
          "name": "stdout",
          "text": [
            "['a) Quỹ phát triển khoa học và công nghệ quoc gia là quỹ được hình thành', 'từ nguồn kinh phí được cấp ban đầu, kinh phí câp bồ sung hang năm từ ngân', 'sách nhà nước, các khoản đóng góp tự nguyện, hiến, tặng của tổ chức, cá nhân', 'và nguồn kinh phí hợp phap khác. Bộ Khoa học và Công nghệ là cơ quan chủ', 'quản của cơ quan, đơn vị được giao quản lý quỹ này;', '', 'b) Quỹ phát triển khoa học và công nghệ của Bộ, cơ quan ngang Bộ, cơ', 'quan thuộc Chính phủ, tỉnh, thành phố trực thuộc trung ương được hình thành', 'từ nguồn kinh phí được cấp ban đầu, kinh phí cấp bổ sung hằng năm từ ngân', 'sách nhà nước, các khoản đóng góp tự nguyện, hiến, tặng của tổ chức, cá nhân', 'và nguon kinh phí hợp pháp khác. Bộ, cơ quan ngang Bộ, cơ quan thuộc Chính', 'phu Ủy ban nhân dân câp tỉnh là cơ quan chủ quản của cơ quan, đơn vị được', '', 'giao quản lý quỹ này.', '3. Các quỹ phát triển khoa học và công nghệ phải được định kỳ đánh giá hiệu', 'quả hoạt động phù hợp với chiên lược, kê hoạch phát triên khoa học và công nghệ.', '', '4. Cơ quan, đơn vị được giao quản lý quỹ phát triển khoa học và công nghệ', 'có trách nhiệm xây dựng kế hoạch, triền khai tài trợ, hỗ trợ, cấp kinh phí cho các', 'tổ chức chủ trì thực hiện nhiệm vụ khoa học và cong nghệ bảo đảm đúng tiến độ,', 'chịu trách nhiệm kiểm tra, đánh giá để bảo đảm việc sử dụng kinh phí của các tổ', 'chức chủ trì đúng mục đích, yêu cầu và tiền độ giải ngân.', '', '5. Cơ quan chủ quản của cơ quan, đơn vị được giao quản lý quỹ phát triền', 'khoa học và công nghệ có trách nhiệm kiểm tra, giám sát hoạt đong của cơ quan', 'quản lý quỹ phát triên khoa học và công nghệ, bảo đảm việc giải ngân và sử dụng', 'ngân sách nhà nước đã cấp đúng tiến độ và có hiệu quả.', '', 'Điều 6. Khoán chỉ trong thực hiện nghiên cứu khoa học và phát triển', 'công nghệ', '', 'Ì. Kinh phí từ ngân sách nhà nước cho thực hiện nhiệm vụ khoa học và công', 'nghệ được thực hiện khoán chi, trừ kinh phí chi mua tài sản được trang bị đề triển', 'khai nhiệm vụ khoa học và công nghệ, thuê dịch vụ thuê ngoài và đoàn đi công', 'tác nước ngoài.', '', '2. Nhiệm vụ khoa học và công nghệ được thực hiện theo phương thức khoán', 'chi đến sản phẩm cuối cùng khi tổ chức chủ trì thực hiện nhiệm vụ khoa học và', 'công nghệ có cam kết về sản phẩm của nhiệm vụ với chỉ tiêu chất lượng chủ yếu cần', 'đạt được.', '', '3. Trên cơ sở dự toán kinh phí tại thuyết minh nhiệm vụ do tổ chức chủ trì', 'thực hiện nhiệm vụ xây dựng, cơ quan có thầm quyền thầm định và quyết định', 'kinh phí ngân sách nhà nước cho nhiệm vụ xác định mức kinh phí khoán đối với', 'các nội dung chi được khoán. Tổ chức chủ trì thực hiện nhiệm vụ được tự chủ, tự', 'chịu trách nhiệm quyết định việc sử dụng kinh phí khoán; được điều chỉnh các nội', 'dung chi; được quyết định việc sử dụng kinh phí từ công lao động để thuê chuyên', 'gia trong và ngoài nước theo mức kinh phí thỏa thuận. Tổ chức chủ trì thực hiện', 'nhiệm vụ chịu trách nhiệm bảo đảm việc sử dụng kinh phí đúng mục đích, hiệu', 'quả, tiết kiệm; chịu trách nhiệm giải trình khi cơ quan chức năng yêu cầu.']\n"
          ]
        }
      ]
    },
    {
      "cell_type": "code",
      "source": [
        "import copy\n",
        "\n",
        "test_page = copy.deepcopy(pages)"
      ],
      "metadata": {
        "id": "28KWPjaUdvAy"
      },
      "execution_count": 165,
      "outputs": []
    },
    {
      "cell_type": "code",
      "source": [
        "print(test_page[0])"
      ],
      "metadata": {
        "colab": {
          "base_uri": "https://localhost:8080/"
        },
        "id": "iGR8ZBItlx2r",
        "outputId": "6c71e49e-5cc5-4dee-bc57-f3af9b68e9c4"
      },
      "execution_count": 166,
      "outputs": [
        {
          "output_type": "stream",
          "name": "stdout",
          "text": [
            "QUÓC HỘI CỘNG HÒA XÃ HỘI CHỦ NGHĨA VIỆT NAM\n",
            "Độc lập - Tự do - Hạnh phúc\n",
            "\n",
            "Nghị quyết số: 193/2025/QH15\n",
            "\n",
            "NGHỊ QUYẾT\n",
            "Về thí điểm một số cơ chế, chính sách đặc biệt tạo đột phá phát triển khoa học,\n",
            "công nghệ, đỗi mới sáng tạo và chuyền đỗi số quốc gia\n",
            "\n",
            "QUÓC HỘI\n",
            "Căn cứ Hiền pháp nước Cộng hòa xã hội chủ nghĩa Việt Nam;\n",
            "\n",
            "Căn cứ Luật Tổ chức Quốc hội số 37/2014/QH73 đã được sửa đổi, bổ sung\n",
            "một số điều theo Luật số 65/2020/QH14 và Luật số 62/2025/QH15;\n",
            "\n",
            "Căn cứ Luật Ban hành văn bản quy phạm pháp luật số 80/2015/QH13 đã\n",
            "được sửa đôi, bô sung một sô điêu theo Luật sô 63/2020/QHT714;\n",
            "\n",
            "QUYẾT NGHỊ:\n",
            "Chương J\n",
            "QUY ĐỊNH CHUNG\n",
            "\n",
            "Điều 1. Phạm vi điều chỉnh\n",
            "\n",
            "Nghị quyet này quy định thí điểm một số cơ chế, chính sách đặc biệt tạo đột\n",
            "phá phát triển khoa học, công nghệ, đồi mới sáng tạo và chuyền đồi số quốc gia.\n",
            "\n",
            "Điều 2. Đối tượng áp dụng\n",
            "\n",
            "NghỊ quyêt này áp dụng đôi với tô chức, cá nhân trong nước; tô chức, cá\n",
            "nhân nước ngoài tham gia hoạt động khoa học, công nghệ, đôi mới sáng tạo và\n",
            "chuyên đôi sô quôc gia tại Việt Nam và tô chức, cá nhân khác có liên quan.\n",
            "\n",
            "Chương IJI\n",
            "HOẠT ĐỘNG KHOA HỌC, CÔNG NGHỆ VÀ ĐÔI MỚI SÁNG TẠO\n",
            "\n",
            "Điều 3. Thành lập, điều hành doanh nghiệp từ kết quả nghiên cứu khoa\n",
            "học và phát triên công nghệ\n",
            "\n",
            "]. Tổ chức khoa học và công nghệ công lập, cơ sở giáo dục đại học công lập\n",
            "được thành lập, tham gia thành lập doanh nghiệp, tham gia góp vôn vào doanh\n",
            "\n",
            "THƯ VIẸN PHÁP LUẬT* Tek +84-28-3930 3279 * www.IhuVienPhapLuat.VI\n",
            "\f\n"
          ]
        }
      ]
    },
    {
      "cell_type": "code",
      "source": [
        "def preprocess_text(pages):\n",
        "    for i in range(len(pages)):\n",
        "        lines = [line.strip() for line in pages[i].splitlines() if line.strip() != \"\"]\n",
        "\n",
        "        if i == 0:\n",
        "            lines = lines[:-2] if len(lines) >= 2 else []\n",
        "        else:\n",
        "            lines = lines[2:-2] if len(lines) >= 4 else []\n",
        "\n",
        "        pages[i] = \"\\n\".join(lines)"
      ],
      "metadata": {
        "id": "pQpo_GLyc-nD"
      },
      "execution_count": 167,
      "outputs": []
    },
    {
      "cell_type": "code",
      "source": [
        "preprocess_text(test_page)"
      ],
      "metadata": {
        "id": "0uFkb-wOnZvx"
      },
      "execution_count": 168,
      "outputs": []
    },
    {
      "cell_type": "code",
      "source": [
        "print(test_page[0])"
      ],
      "metadata": {
        "colab": {
          "base_uri": "https://localhost:8080/"
        },
        "id": "SbnXUKiMnhiX",
        "outputId": "50d5e743-478e-4c1e-ad2a-4021f5f84a6e"
      },
      "execution_count": 170,
      "outputs": [
        {
          "output_type": "stream",
          "name": "stdout",
          "text": [
            "QUÓC HỘI CỘNG HÒA XÃ HỘI CHỦ NGHĨA VIỆT NAM\n",
            "Độc lập - Tự do - Hạnh phúc\n",
            "Nghị quyết số: 193/2025/QH15\n",
            "NGHỊ QUYẾT\n",
            "Về thí điểm một số cơ chế, chính sách đặc biệt tạo đột phá phát triển khoa học,\n",
            "công nghệ, đỗi mới sáng tạo và chuyền đỗi số quốc gia\n",
            "QUÓC HỘI\n",
            "Căn cứ Hiền pháp nước Cộng hòa xã hội chủ nghĩa Việt Nam;\n",
            "Căn cứ Luật Tổ chức Quốc hội số 37/2014/QH73 đã được sửa đổi, bổ sung\n",
            "một số điều theo Luật số 65/2020/QH14 và Luật số 62/2025/QH15;\n",
            "Căn cứ Luật Ban hành văn bản quy phạm pháp luật số 80/2015/QH13 đã\n",
            "được sửa đôi, bô sung một sô điêu theo Luật sô 63/2020/QHT714;\n",
            "QUYẾT NGHỊ:\n",
            "Chương J\n",
            "QUY ĐỊNH CHUNG\n",
            "Điều 1. Phạm vi điều chỉnh\n",
            "Nghị quyet này quy định thí điểm một số cơ chế, chính sách đặc biệt tạo đột\n",
            "phá phát triển khoa học, công nghệ, đồi mới sáng tạo và chuyền đồi số quốc gia.\n",
            "Điều 2. Đối tượng áp dụng\n",
            "NghỊ quyêt này áp dụng đôi với tô chức, cá nhân trong nước; tô chức, cá\n",
            "nhân nước ngoài tham gia hoạt động khoa học, công nghệ, đôi mới sáng tạo và\n",
            "chuyên đôi sô quôc gia tại Việt Nam và tô chức, cá nhân khác có liên quan.\n",
            "Chương IJI\n",
            "HOẠT ĐỘNG KHOA HỌC, CÔNG NGHỆ VÀ ĐÔI MỚI SÁNG TẠO\n",
            "Điều 3. Thành lập, điều hành doanh nghiệp từ kết quả nghiên cứu khoa\n",
            "học và phát triên công nghệ\n",
            "]. Tổ chức khoa học và công nghệ công lập, cơ sở giáo dục đại học công lập\n"
          ]
        }
      ]
    },
    {
      "cell_type": "code",
      "source": [
        "print(test_page[6])"
      ],
      "metadata": {
        "colab": {
          "base_uri": "https://localhost:8080/"
        },
        "id": "lxKSHjAjrpof",
        "outputId": "c0285c47-af11-457a-d4e0-1b3d9751392f"
      },
      "execution_count": 171,
      "outputs": [
        {
          "output_type": "stream",
          "name": "stdout",
          "text": [
            "của Ủy ban Thường vụ Quốc hội, Chính phủ, quyết định của Thủ tướng\n",
            "Chính phủ.\n",
            "3. Cơ quan chức năng về thanh tra, kiểm tra, kiểm toán thực hiện việc thanh\n",
            "tra, kiểm tra, kiểm toán theo quy định của pháp luật có liên quan ‹ đối với các nhiệm\n",
            "vụ, dự án, hoạt động thuê dịch vụ công nghệ thông tin, chuyển đổi số áp dụng\n",
            "chính sách quy định tại khoản 2 Điều này.\n",
            "Điều 11. Hỗ trợ tài chính cho doanh nghiệp triển khai nhanh 5G\n",
            "Ngân sách nhà nước hỗ trợ doanh nghiệp triển khai nhanh hạ tằng mạng 5G\n",
            "toàn quôc được quy định như sau:\n",
            "1. Doanh nghiệp viễn thông triển khai nhanh hạ tầng mạng 5G phải đạt tối\n",
            "th1eu 20.000 trạm phát sóng 5G được nghiệm thu đưa vào sử dụng từ ngày Nghị\n",
            "quyết này có hiệu lực thi hành đến hết ngày 31 tháng 12 năm 2025.\n",
            "2. Tổng số tiền ho trợ doanh nghiệp viên thông quy định tại khoản 1 Điều\n",
            "này không vượt quá tồng số tiền trúng đầu giá của các cuộc đấu giá quyền sử dụng\n",
            "tần số vô tuyến điện thực hiện trong năm 2024.\n",
            "3. Mức hỗ trợ một trạm phát sóng 5G là 15% chi phí thiết bị bình quân cho\n",
            "một trạm phát sóng 5G được mua trong năm 2025 của các doanh nghiệp viễn\n",
            "thông được hỗ trợ.\n",
            "Đ1eu 12. Chính sách phat triển các tuyến cáp viễn thông ket nối quoc tế\n",
            "tren biển do doanh nghiệp viễn thông Việt Nam tham gia góp vốn hoặc là chủ\n",
            "đầu tư\n",
            "1. Các dự án đầu tư các tuyến cáp viễn thông kết nối quốc tế trên biên có\n",
            "trạm cập bờ tại Việt Nam được áp dụng trình tự, thủ tục quy định cho dự án đau\n",
            "tư tại Việt Nam theo quy định của pháp luật về đầu tư và phải đáp ứng yêu cầu về\n",
            "bảo đảm quốc phòng, an ninh.\n",
            "2. Cho phép cap phê duyệt chủ trương đầu tư quyet định việc sử dụng hình\n",
            "thức chỉ định thau đê thực hiện các gói thầu thuộc dự án đầu tư quy định tại khoản\n",
            "] Điều này trlen khai trong giai đoạn 2025 - 2030 để đáp ứng kịp thời yêu cầu\n",
            "phát triên hạ tầng viễn thông của doanh nghiệp.\n",
            "Trong trường hợp không sử dụng hình thức chỉ định thầu, việc lựa chọn nhà\n",
            "thầu để triển khai dự án đầu tư được thực hiện theo thông lệ quốc tế được các bên\n",
            "thống nhất hoặc ký kết giữa doanh nghiệp viễn thông Việt Nam và tổ chức nước\n",
            "ngoài là thành viên góp vôn đầu tư xây dựng tuyến cáp quang biên quoc tế.\n",
            "Điều 13. Thí điểm có kiểm soát dịch vụ viễn thông sử dụng công nghệ\n",
            "vệ tỉnh quỹ đạo tầm thấp\n",
            "l. Thí điệm có }<iểm soát triển khai dịch vụ viễn thông sử dụng công nghệ vệ\n",
            "tinh quỹ đạo tâm thâp được quy định như sau:\n",
            "a) Thí điểm có k1em soát đầu tư kinh doanh dịch vụ viễn thông có hạ tang\n"
          ]
        }
      ]
    },
    {
      "cell_type": "code",
      "source": [
        "def save_pages_to_txt(pages, filename):\n",
        "    with open(filename, \"w\", encoding=\"utf-8\") as f:\n",
        "        for page in pages:\n",
        "            f.write(page.strip() + \"\\n\")"
      ],
      "metadata": {
        "id": "TF5sQRTA4_gK"
      },
      "execution_count": 273,
      "outputs": []
    },
    {
      "cell_type": "code",
      "source": [
        "save_pages_to_txt(test_page, \"nq_193_2025_QH15_cleaned.txt\")"
      ],
      "metadata": {
        "id": "4frFpqz75DQx"
      },
      "execution_count": 274,
      "outputs": []
    },
    {
      "cell_type": "code",
      "source": [
        "file_path_2 = \"/content/L_64_2025_QH15.pdf\""
      ],
      "metadata": {
        "id": "qaHcwtawrqU9"
      },
      "execution_count": 260,
      "outputs": []
    },
    {
      "cell_type": "code",
      "source": [
        "reader = PdfReader(file_path_2)\n",
        "print(len(reader.pages))"
      ],
      "metadata": {
        "colab": {
          "base_uri": "https://localhost:8080/"
        },
        "id": "X4hX4TadvUNh",
        "outputId": "325d15e3-a600-4231-e2a9-1de0c93a0b34"
      },
      "execution_count": 261,
      "outputs": [
        {
          "output_type": "stream",
          "name": "stdout",
          "text": [
            "36\n"
          ]
        }
      ]
    },
    {
      "cell_type": "code",
      "source": [
        "law_pages = []\n",
        "for page in reader.pages:\n",
        "  law_pages.append(page.extract_text())"
      ],
      "metadata": {
        "id": "xpj0HDUzvlSi"
      },
      "execution_count": 262,
      "outputs": []
    },
    {
      "cell_type": "code",
      "source": [
        "def process_page(pages):\n",
        "  for i,page in enumerate(pages):\n",
        "    lines = [line.strip() for line in pages[i].splitlines() if line.strip() != \"\"]\n",
        "    lines = lines[:-2]\n",
        "    pages[i] = \"\\n\".join(lines)"
      ],
      "metadata": {
        "id": "2DgWsMa9zO-N"
      },
      "execution_count": 263,
      "outputs": []
    },
    {
      "cell_type": "code",
      "source": [
        "process_page(law_pages)"
      ],
      "metadata": {
        "id": "xRA30mgYwdOf"
      },
      "execution_count": 264,
      "outputs": []
    },
    {
      "cell_type": "code",
      "source": [
        "print(law_pages[0])"
      ],
      "metadata": {
        "colab": {
          "base_uri": "https://localhost:8080/"
        },
        "id": "BgO4x0tHzCtT",
        "outputId": "715c60de-e38e-4697-8baa-7f0490d787c9"
      },
      "execution_count": 265,
      "outputs": [
        {
          "output_type": "stream",
          "name": "stdout",
          "text": [
            "QUỐC HỘI\n",
            "-------\n",
            "CỘNG HÒA XÃ HỘI CHỦ NGHĨA VIỆT NAM\n",
            "Độc lập - Tự do - Hạnh phúc\n",
            "---------------\n",
            "Luật số: 64/2025/QH15 Hà Nội, ngày 19 tháng 02 năm 2025\n",
            "LUẬT\n",
            "BAN HÀNH VĂN BẢN QUY PHẠM PHÁP LUẬT\n",
            "Căn cứ Hiến pháp nước Cộng hòa xã hội chủ nghĩa Việt Nam;\n",
            "Quốc hội ban hành Luật Ban hành văn bản quy phạm pháp luật.\n",
            "Chương I\n",
            "NHỮNG QUY ĐỊNH CHUNG\n",
            "Điều 1. Phạm vi điều chỉnh\n",
            "Luật này quy định về xây dựng, ban hành văn bản quy phạm pháp luật; nội dung cơ bản về tổ chức thi hành\n",
            "văn bản quy phạm pháp luật.\n",
            "Luật này không quy định về làm Hiến pháp, sửa đổi Hiến pháp.\n",
            "Điều 2. Văn bản quy phạm pháp luật\n",
            "Văn bản quy phạm pháp luật là văn bản có chứa quy phạm pháp luật, được ban hành đúng thẩm quyền, hình\n",
            "thức, trình tự, thủ tục theo quy định của Luật này.\n",
            "Điều 3. Giải thích từ ngữ\n",
            "Trong Luật này, các từ ngữ dưới đây được hiểu như sau:\n",
            "1. Quy phạm pháp luật là quy tắc xử sự chung, có hiệu lực bắt buộc chung, được áp dụng đối với cơ quan,\n",
            "tổ chức, cá nhân, trong phạm vi cả nước hoặc trong đơn vị hành chính nhất định, do cơ quan nhà nước,\n",
            "người có thẩm quyền quy định tại Luật này ban hành và được Nhà nước bảo đảm thực hiện.\n",
            "2. Chính sách là tập hợp các giải pháp cụ thể của Nhà nước để giải quyết một hoặc một số vấn đề của thực\n",
            "tiễn nhằm đạt được mục tiêu nhất định, phù hợp với chủ trương, đường lối của Đảng.\n",
            "3. Tham vấn chính sách là việc trao đổi trực tiếp giữa cơ quan lập đề xuất chính sách với cơ quan, tổ chức,\n",
            "cá nhân được tham vấn theo quy định của Luật này nhằm lựa chọn giải pháp, hoàn thiện chính sách của dự\n",
            "án luật, nghị quyết của Quốc hội, pháp lệnh của Ủy ban Thường vụ Quốc hội.\n",
            "4. Đánh giá tác động của chính sách là việc phân tích, dự báo khả năng ảnh hưởng của từng giải pháp nhằm\n",
            "lựa chọn phương án tối ưu, phù hợp với mục tiêu của chính sách.\n",
            "5. Rà soát văn bản quy phạm pháp luật là việc xem xét, đối chiếu, đánh giá các quy định của văn bản được\n",
            "rà soát nhằm phát hiện, xử lý hoặc kiến nghị xử lý các quy định mâu thuẫn, chồng chéo, hết hiệu lực hoặc\n",
            "không còn phù hợp.\n",
            "6. Kiểm tra văn bản quy phạm pháp luật là việc xem xét, đánh giá, kết luận về tính hợp hiến, tính hợp pháp,\n",
            "tính thống nhất với hệ thống pháp luật của văn bản được kiểm tra.\n"
          ]
        }
      ]
    },
    {
      "cell_type": "code",
      "source": [
        "import re\n",
        "\n",
        "def preprocess_legal_document_to_markdown(text):\n",
        "    lines = text.strip().splitlines()\n",
        "    result = []\n",
        "    i = 0\n",
        "\n",
        "    found_title = False\n",
        "\n",
        "    while i < len(lines):\n",
        "        word = lines[i].strip()\n",
        "        if not word:\n",
        "            i += 1\n",
        "            continue\n",
        "\n",
        "        if not found_title and word == \"LUẬT\" and i + 1 < len(lines):\n",
        "            title = lines[i + 1].strip()\n",
        "            result.append(f\"# LUẬT: {title}\")\n",
        "            found_title = True\n",
        "            i += 2\n",
        "            continue\n",
        "\n",
        "        if re.match(r\"^Chương\\s+[IVXLC\\d]+\", word):\n",
        "            chapter_line = word\n",
        "            chapter_title = lines[i + 1].strip() if i + 1 < len(lines) else \"\"\n",
        "            result.append(f\"## {chapter_line} - {chapter_title}\")\n",
        "            i += 2\n",
        "            continue\n",
        "\n",
        "        if re.match(r\"^Điều\\s+\\d+\", word):\n",
        "            result.append(f\"### {word}\")\n",
        "            i += 1\n",
        "            continue\n",
        "\n",
        "        result.append(word)\n",
        "        i += 1\n",
        "\n",
        "    return \"\\n\".join(result)"
      ],
      "metadata": {
        "id": "KpPlmaCFzl7r"
      },
      "execution_count": 266,
      "outputs": []
    },
    {
      "cell_type": "code",
      "source": [
        "for i,page in enumerate(law_pages):\n",
        "  law_pages[i] = preprocess_legal_document_to_markdown(page)"
      ],
      "metadata": {
        "id": "aXwAFjJy1-ee"
      },
      "execution_count": 267,
      "outputs": []
    },
    {
      "cell_type": "code",
      "source": [
        "print(law_pages[0])"
      ],
      "metadata": {
        "colab": {
          "base_uri": "https://localhost:8080/"
        },
        "id": "KX-OMRBm2Hew",
        "outputId": "2d71c8a7-a5f5-4374-c499-baedc6331ae9"
      },
      "execution_count": 275,
      "outputs": [
        {
          "output_type": "stream",
          "name": "stdout",
          "text": [
            "QUỐC HỘI\n",
            "-------\n",
            "CỘNG HÒA XÃ HỘI CHỦ NGHĨA VIỆT NAM\n",
            "Độc lập - Tự do - Hạnh phúc\n",
            "---------------\n",
            "Luật số: 64/2025/QH15 Hà Nội, ngày 19 tháng 02 năm 2025\n",
            "# LUẬT: BAN HÀNH VĂN BẢN QUY PHẠM PHÁP LUẬT\n",
            "Căn cứ Hiến pháp nước Cộng hòa xã hội chủ nghĩa Việt Nam;\n",
            "Quốc hội ban hành Luật Ban hành văn bản quy phạm pháp luật.\n",
            "## Chương I - NHỮNG QUY ĐỊNH CHUNG\n",
            "### Điều 1. Phạm vi điều chỉnh\n",
            "Luật này quy định về xây dựng, ban hành văn bản quy phạm pháp luật; nội dung cơ bản về tổ chức thi hành\n",
            "văn bản quy phạm pháp luật.\n",
            "Luật này không quy định về làm Hiến pháp, sửa đổi Hiến pháp.\n",
            "### Điều 2. Văn bản quy phạm pháp luật\n",
            "Văn bản quy phạm pháp luật là văn bản có chứa quy phạm pháp luật, được ban hành đúng thẩm quyền, hình\n",
            "thức, trình tự, thủ tục theo quy định của Luật này.\n",
            "### Điều 3. Giải thích từ ngữ\n",
            "Trong Luật này, các từ ngữ dưới đây được hiểu như sau:\n",
            "1. Quy phạm pháp luật là quy tắc xử sự chung, có hiệu lực bắt buộc chung, được áp dụng đối với cơ quan,\n",
            "tổ chức, cá nhân, trong phạm vi cả nước hoặc trong đơn vị hành chính nhất định, do cơ quan nhà nước,\n",
            "người có thẩm quyền quy định tại Luật này ban hành và được Nhà nước bảo đảm thực hiện.\n",
            "2. Chính sách là tập hợp các giải pháp cụ thể của Nhà nước để giải quyết một hoặc một số vấn đề của thực\n",
            "tiễn nhằm đạt được mục tiêu nhất định, phù hợp với chủ trương, đường lối của Đảng.\n",
            "3. Tham vấn chính sách là việc trao đổi trực tiếp giữa cơ quan lập đề xuất chính sách với cơ quan, tổ chức,\n",
            "cá nhân được tham vấn theo quy định của Luật này nhằm lựa chọn giải pháp, hoàn thiện chính sách của dự\n",
            "án luật, nghị quyết của Quốc hội, pháp lệnh của Ủy ban Thường vụ Quốc hội.\n",
            "4. Đánh giá tác động của chính sách là việc phân tích, dự báo khả năng ảnh hưởng của từng giải pháp nhằm\n",
            "lựa chọn phương án tối ưu, phù hợp với mục tiêu của chính sách.\n",
            "5. Rà soát văn bản quy phạm pháp luật là việc xem xét, đối chiếu, đánh giá các quy định của văn bản được\n",
            "rà soát nhằm phát hiện, xử lý hoặc kiến nghị xử lý các quy định mâu thuẫn, chồng chéo, hết hiệu lực hoặc\n",
            "không còn phù hợp.\n",
            "6. Kiểm tra văn bản quy phạm pháp luật là việc xem xét, đánh giá, kết luận về tính hợp hiến, tính hợp pháp,\n",
            "tính thống nhất với hệ thống pháp luật của văn bản được kiểm tra.\n"
          ]
        }
      ]
    },
    {
      "cell_type": "code",
      "source": [
        "print(law_pages[5])"
      ],
      "metadata": {
        "colab": {
          "base_uri": "https://localhost:8080/"
        },
        "id": "okiHZJJI5m4x",
        "outputId": "b5a43c4e-c80a-409b-f624-5b7df085ff30"
      },
      "execution_count": 276,
      "outputs": [
        {
          "output_type": "stream",
          "name": "stdout",
          "text": [
            "Ủy ban Thường vụ Quốc hội, Chính phủ, Đoàn Chủ tịch Ủy ban Trung ương Mặt trận Tổ quốc Việt Nam\n",
            "ban hành nghị quyết liên tịch để quy định chi tiết những vấn đề được luật giao hoặc hướng dẫn một số vấn\n",
            "đề cần thiết trong công tác bầu cử đại biểu Quốc hội, đại biểu Hội đồng nhân dân.\n",
            "### Điều 14. Nghị định, nghị quyết của Chính phủ\n",
            "1. Chính phủ ban hành nghị định để quy định:\n",
            "a) Chi tiết điều, khoản, điểm và các nội dung khác được giao trong luật, nghị quyết của Quốc hội, pháp\n",
            "lệnh, nghị quyết của Ủy ban Thường vụ Quốc hội, lệnh, quyết định của Chủ tịch nước;\n",
            "b) Các biện pháp cụ thể để tổ chức thi hành Hiến pháp; các biện pháp cụ thể để tổ chức, hướng dẫn thi hành\n",
            "luật, nghị quyết của Quốc hội, pháp lệnh, nghị quyết của Ủy ban Thường vụ Quốc hội, lệnh, quyết định của\n",
            "Chủ tịch nước; các biện pháp để thực hiện chính sách kinh tế - xã hội, quốc phòng, an ninh, tài chính, tiền\n",
            "tệ, ngân sách, thuế, dân tộc, tôn giáo, văn hóa, giáo dục, y tế, khoa học, công nghệ, môi trường, đối ngoại,\n",
            "chế độ công vụ, cán bộ, công chức, viên chức, quyền, nghĩa vụ của công dân và các vấn đề khác thuộc thẩm\n",
            "quyền quản lý, điều hành của Chính phủ; những vấn đề liên quan đến nhiệm vụ, quyền hạn của từ 02 Bộ, cơ\n",
            "quan ngang Bộ trở lên; nhiệm vụ, quyền hạn, tổ chức bộ máy của các Bộ, cơ quan ngang Bộ, cơ quan thuộc\n",
            "Chính phủ và các cơ quan khác thuộc thẩm quyền của Chính phủ; phân cấp nhiệm vụ, quyền hạn;\n",
            "c) Vấn đề cần thiết thuộc thẩm quyền của Quốc hội, Ủy ban Thường vụ Quốc hội nhưng chưa đủ điều kiện\n",
            "xây dựng thành luật hoặc pháp lệnh để đáp ứng yêu cầu quản lý nhà nước, quản lý kinh tế, quản lý xã hội.\n",
            "Trước khi ban hành nghị định này phải được sự đồng ý của Ủy ban Thường vụ Quốc hội.\n",
            "2. Chính phủ ban hành nghị quyết để quy định:\n",
            "a) Giải quyết các vấn đề cấp bách, quan trọng phát sinh từ thực tiễn và để áp dụng trong một thời gian nhất\n",
            "định, phạm vi cụ thể thuộc thẩm quyền của Chính phủ; phân cấp nhiệm vụ, quyền hạn;\n",
            "b) Tạm ngưng, điều chỉnh hiệu lực hoặc kéo dài thời hạn áp dụng toàn bộ hoặc một phần nghị định của\n",
            "Chính phủ đáp ứng yêu cầu cấp bách về phát triển kinh tế - xã hội, bảo đảm quyền con người, quyền công\n",
            "dân;\n",
            "c) Thực hiện thí điểm một số chính sách chưa có pháp luật điều chỉnh thuộc thẩm quyền của Chính phủ\n",
            "hoặc khác với nghị định, nghị quyết của Chính phủ.\n",
            "### Điều 15. Quyết định của Thủ tướng Chính phủ\n",
            "Thủ tướng Chính phủ ban hành quyết định để quy định:\n",
            "1. Nội dung được giao trong luật, nghị quyết của Quốc hội, pháp lệnh, nghị quyết của Ủy ban Thường vụ\n",
            "Quốc hội, lệnh, quyết định của Chủ tịch nước, nghị định, nghị quyết của Chính phủ;\n",
            "2. Biện pháp chỉ đạo, điều hành hoạt động của Chính phủ và hệ thống hành chính nhà nước từ trung ương\n",
            "đến địa phương, chế độ làm việc với các thành viên Chính phủ, chính quyền địa phương và các vấn đề khác\n",
            "thuộc thẩm quyền của Thủ tướng Chính phủ; phân cấp và thực hiện nhiệm vụ, quyền hạn được phân cấp;\n",
            "3. Biện pháp chỉ đạo, phối hợp hoạt động của các thành viên Chính phủ; kiểm tra hoạt động của các Bộ, cơ\n",
            "quan ngang Bộ, cơ quan thuộc Chính phủ, chính quyền địa phương trong việc thực hiện chủ trương, đường\n",
            "lối của Đảng, chính sách, pháp luật của Nhà nước.\n",
            "### Điều 16. Nghị quyết của Hội đồng Thẩm phán Tòa án nhân dân tối cao, thông tư của Chánh án Tòa\n",
            "án nhân dân tối cao\n",
            "1. Hội đồng Thẩm phán Tòa án nhân dân tối cao ban hành nghị quyết hướng dẫn áp dụng thống nhất pháp\n",
            "luật trong xét xử.\n"
          ]
        }
      ]
    },
    {
      "cell_type": "code",
      "source": [
        "save_pages_to_txt(law_pages, \"L_64_2025_QH15_cleaned.txt\")"
      ],
      "metadata": {
        "id": "onpF4LZX2KOH"
      },
      "execution_count": 277,
      "outputs": []
    },
    {
      "cell_type": "code",
      "source": [],
      "metadata": {
        "id": "0AKvDTIV5vfn"
      },
      "execution_count": null,
      "outputs": []
    }
  ]
}